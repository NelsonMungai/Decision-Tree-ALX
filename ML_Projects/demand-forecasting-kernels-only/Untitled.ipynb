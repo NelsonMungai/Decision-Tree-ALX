{
 "cells": [
  {
   "cell_type": "code",
   "execution_count": 5,
   "id": "4ed9df97",
   "metadata": {},
   "outputs": [],
   "source": [
    "from os.path import exists\n",
    "import pandas as pd"
   ]
  },
  {
   "cell_type": "code",
   "execution_count": 21,
   "id": "98f447fd",
   "metadata": {},
   "outputs": [],
   "source": [
    "train_df=pd.read_csv('train.csv')\n",
    "train_df['store'].dtype\n",
    "\n",
    "# take a sample of 19,000 data items\n",
    "df=train_df.sample(n=19000,random_state=0)\n",
    "# convert store and item columns into string\n",
    "df[\"item\"]=df['item'].astype(str)\n",
    "df[\"store\"]=df['store'].astype(str)\n",
    "df[\"date\"]=pd.to_datetime(df['date'])\n",
    "\n",
    "# sort in terms of dates\n",
    "\n",
    "df.sort_values('date',inplace=True)\n",
    "df.reset_index(drop=True,inplace=True)\n",
    "df.head()"
   ]
  },
  {
   "cell_type": "code",
   "execution_count": 27,
   "id": "29ae244e",
   "metadata": {},
   "outputs": [
    {
     "data": {
      "text/html": [
       "<div>\n",
       "<style scoped>\n",
       "    .dataframe tbody tr th:only-of-type {\n",
       "        vertical-align: middle;\n",
       "    }\n",
       "\n",
       "    .dataframe tbody tr th {\n",
       "        vertical-align: top;\n",
       "    }\n",
       "\n",
       "    .dataframe thead th {\n",
       "        text-align: right;\n",
       "    }\n",
       "</style>\n",
       "<table border=\"1\" class=\"dataframe\">\n",
       "  <thead>\n",
       "    <tr style=\"text-align: right;\">\n",
       "      <th></th>\n",
       "      <th>date</th>\n",
       "      <th>store</th>\n",
       "      <th>item</th>\n",
       "      <th>sales</th>\n",
       "    </tr>\n",
       "  </thead>\n",
       "  <tbody>\n",
       "    <tr>\n",
       "      <th>15213</th>\n",
       "      <td>2017-01-01</td>\n",
       "      <td>1</td>\n",
       "      <td>44</td>\n",
       "      <td>32</td>\n",
       "    </tr>\n",
       "    <tr>\n",
       "      <th>15214</th>\n",
       "      <td>2017-01-01</td>\n",
       "      <td>4</td>\n",
       "      <td>25</td>\n",
       "      <td>64</td>\n",
       "    </tr>\n",
       "    <tr>\n",
       "      <th>15215</th>\n",
       "      <td>2017-01-01</td>\n",
       "      <td>3</td>\n",
       "      <td>15</td>\n",
       "      <td>89</td>\n",
       "    </tr>\n",
       "    <tr>\n",
       "      <th>15216</th>\n",
       "      <td>2017-01-01</td>\n",
       "      <td>9</td>\n",
       "      <td>50</td>\n",
       "      <td>67</td>\n",
       "    </tr>\n",
       "    <tr>\n",
       "      <th>15217</th>\n",
       "      <td>2017-01-01</td>\n",
       "      <td>4</td>\n",
       "      <td>37</td>\n",
       "      <td>29</td>\n",
       "    </tr>\n",
       "    <tr>\n",
       "      <th>...</th>\n",
       "      <td>...</td>\n",
       "      <td>...</td>\n",
       "      <td>...</td>\n",
       "      <td>...</td>\n",
       "    </tr>\n",
       "    <tr>\n",
       "      <th>18995</th>\n",
       "      <td>2017-12-31</td>\n",
       "      <td>8</td>\n",
       "      <td>10</td>\n",
       "      <td>87</td>\n",
       "    </tr>\n",
       "    <tr>\n",
       "      <th>18996</th>\n",
       "      <td>2017-12-31</td>\n",
       "      <td>1</td>\n",
       "      <td>11</td>\n",
       "      <td>44</td>\n",
       "    </tr>\n",
       "    <tr>\n",
       "      <th>18997</th>\n",
       "      <td>2017-12-31</td>\n",
       "      <td>10</td>\n",
       "      <td>49</td>\n",
       "      <td>42</td>\n",
       "    </tr>\n",
       "    <tr>\n",
       "      <th>18998</th>\n",
       "      <td>2017-12-31</td>\n",
       "      <td>3</td>\n",
       "      <td>21</td>\n",
       "      <td>46</td>\n",
       "    </tr>\n",
       "    <tr>\n",
       "      <th>18999</th>\n",
       "      <td>2017-12-31</td>\n",
       "      <td>9</td>\n",
       "      <td>17</td>\n",
       "      <td>30</td>\n",
       "    </tr>\n",
       "  </tbody>\n",
       "</table>\n",
       "<p>3787 rows × 4 columns</p>\n",
       "</div>"
      ],
      "text/plain": [
       "            date store item  sales\n",
       "15213 2017-01-01     1   44     32\n",
       "15214 2017-01-01     4   25     64\n",
       "15215 2017-01-01     3   15     89\n",
       "15216 2017-01-01     9   50     67\n",
       "15217 2017-01-01     4   37     29\n",
       "...          ...   ...  ...    ...\n",
       "18995 2017-12-31     8   10     87\n",
       "18996 2017-12-31     1   11     44\n",
       "18997 2017-12-31    10   49     42\n",
       "18998 2017-12-31     3   21     46\n",
       "18999 2017-12-31     9   17     30\n",
       "\n",
       "[3787 rows x 4 columns]"
      ]
     },
     "execution_count": 27,
     "metadata": {},
     "output_type": "execute_result"
    }
   ],
   "source": [
    "# split time series data train dataset 2013-2016   and 2017 data into test dataset\n",
    "train=df[df['date']<\"2017-01-01\"]\n",
    "test=df[df['date']>=\"2017-01-01\"]\n",
    "test"
   ]
  },
  {
   "cell_type": "code",
   "execution_count": 28,
   "id": "551a8288",
   "metadata": {},
   "outputs": [],
   "source": [
    "# split trainand test into features and labels\n",
    "train_target=train['sales']\n",
    "train_features=train.drop(columns='sales')\n",
    "\n",
    "test_target=test['sales']\n",
    "test_features=test.drop(columns='sales')"
   ]
  },
  {
   "cell_type": "code",
   "execution_count": 48,
   "id": "f742d78a",
   "metadata": {},
   "outputs": [],
   "source": [
    "# we will enrich our features using upgini library\n",
    "from upgini import FeaturesEnricher, SearchKey\n",
    "from upgini.metadata import CVType\n",
    "\n",
    "enricher=FeaturesEnricher(\n",
    "    search_keys={\n",
    "        'date':SearchKey.DATE,\n",
    "    },\n",
    "    cv=CVType.time_series\n",
    ")\n",
    "enricher.fit(train_features,train_target,eval_set=[(test_features,test_target)])"
   ]
  },
  {
   "cell_type": "code",
   "execution_count": null,
   "id": "9823752f",
   "metadata": {},
   "outputs": [],
   "source": [
    "from catboost import CatBoostRegressor\n",
    "from catboost.utils import eval_metric\n",
    "\n",
    "model=CatBoostRegressor(verbose=False,allow_writing_files=False,random_state=0)\n",
    "\n",
    "enricher.calculate_metrics(\n",
    "train_features,train_target,\n",
    "eval_set=[(test_features,test_target)],\n",
    "estimator=model,\n",
    "scoring=\"mean_absolute_percentage_error\")"
   ]
  },
  {
   "cell_type": "code",
   "execution_count": null,
   "id": "7016e2b4",
   "metadata": {},
   "outputs": [
    {
     "data": {
      "text/html": [
       "<progress style='width:60ex' max='100' value='0'></progress>  0% Checking dataset...</br>"
      ],
      "text/plain": [
       "[                                                            ] 0% Checking dataset..."
      ]
     },
     "metadata": {},
     "output_type": "display_data"
    },
    {
     "name": "stdout",
     "output_type": "stream",
     "text": [
      "('Connection aborted.', ConnectionResetError(104, 'Connection reset by peer'))\n",
      "We apologize for the inconvenience as we were experiencing technical issues with cloud infrastructure today.\n",
      "We are actively working on a fix and expect to have the issue resolved in the next couple of hours.\n",
      "\n",
      "('Connection aborted.', ConnectionResetError(104, 'Connection reset by peer'))\n",
      "We apologize for the inconvenience as we were experiencing technical issues with cloud infrastructure today.\n",
      "We are actively working on a fix and expect to have the issue resolved in the next couple of hours.\n",
      "\n"
     ]
    }
   ],
   "source": [
    "enriched_train_features=enricher.transform(train_features,keep_input=True)\n",
    "enriched_test_features=enricher.transform(test_features,keep_input=True)\n",
    "enriched_train_features.head()"
   ]
  },
  {
   "cell_type": "code",
   "execution_count": null,
   "id": "bed98883",
   "metadata": {},
   "outputs": [],
   "source": []
  }
 ],
 "metadata": {
  "kernelspec": {
   "display_name": "Python 3 (ipykernel)",
   "language": "python",
   "name": "python3"
  },
  "language_info": {
   "codemirror_mode": {
    "name": "ipython",
    "version": 3
   },
   "file_extension": ".py",
   "mimetype": "text/x-python",
   "name": "python",
   "nbconvert_exporter": "python",
   "pygments_lexer": "ipython3",
   "version": "3.10.12"
  }
 },
 "nbformat": 4,
 "nbformat_minor": 5
}
